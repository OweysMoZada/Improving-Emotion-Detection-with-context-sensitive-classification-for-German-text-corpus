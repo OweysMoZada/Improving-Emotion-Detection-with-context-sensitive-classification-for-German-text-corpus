{
 "cells": [
  {
   "cell_type": "markdown",
   "metadata": {},
   "source": [
    "triggerwords by https://edoc.ub.uni-muenchen.de/25295/7/Aschenbrenner_Andreas.pdf\n",
    "\n",
    "\n",
    "API:\n",
    "https://www.dwds.de/d/api\n",
    "\n",
    "### Here you can see some examples for the DWDS-API and translation."
   ]
  },
  {
   "cell_type": "markdown",
   "metadata": {},
   "source": [
    "#### Generating sentences based on words "
   ]
  },
  {
   "cell_type": "code",
   "execution_count": 2,
   "metadata": {},
   "outputs": [
    {
     "name": "stderr",
     "output_type": "stream",
     "text": [
      "[nltk_data] Downloading package punkt to\n",
      "[nltk_data]     /home/o_momenzada/nltk_data...\n",
      "[nltk_data]   Package punkt is already up-to-date!\n"
     ]
    },
    {
     "data": {
      "text/html": [
       "<div>\n",
       "<style scoped>\n",
       "    .dataframe tbody tr th:only-of-type {\n",
       "        vertical-align: middle;\n",
       "    }\n",
       "\n",
       "    .dataframe tbody tr th {\n",
       "        vertical-align: top;\n",
       "    }\n",
       "\n",
       "    .dataframe thead th {\n",
       "        text-align: right;\n",
       "    }\n",
       "</style>\n",
       "<table border=\"1\" class=\"dataframe\">\n",
       "  <thead>\n",
       "    <tr style=\"text-align: right;\">\n",
       "      <th></th>\n",
       "      <th>label</th>\n",
       "      <th>text_de</th>\n",
       "    </tr>\n",
       "  </thead>\n",
       "  <tbody>\n",
       "    <tr>\n",
       "      <th>3</th>\n",
       "      <td>Wut</td>\n",
       "      <td>die sagte: 'du dummkopf.</td>\n",
       "    </tr>\n",
       "    <tr>\n",
       "      <th>4</th>\n",
       "      <td>Wut</td>\n",
       "      <td>er hielt mich für einen dummkopf, nach seinem ...</td>\n",
       "    </tr>\n",
       "    <tr>\n",
       "      <th>5</th>\n",
       "      <td>Wut</td>\n",
       "      <td>englisch ›dussel‹, dummkopf.</td>\n",
       "    </tr>\n",
       "    <tr>\n",
       "      <th>6</th>\n",
       "      <td>Wut</td>\n",
       "      <td>dummkopf!</td>\n",
       "    </tr>\n",
       "    <tr>\n",
       "      <th>7</th>\n",
       "      <td>Wut</td>\n",
       "      <td>hat dir irgendein dummkopf was schlechtes darü...</td>\n",
       "    </tr>\n",
       "    <tr>\n",
       "      <th>8</th>\n",
       "      <td>Wut</td>\n",
       "      <td>das ist für seine sechs kühe, du dummkopf.</td>\n",
       "    </tr>\n",
       "    <tr>\n",
       "      <th>9</th>\n",
       "      <td>Wut</td>\n",
       "      <td>wer zuviel zahlt, kommt in den ruf des dummkop...</td>\n",
       "    </tr>\n",
       "    <tr>\n",
       "      <th>10</th>\n",
       "      <td>Wut</td>\n",
       "      <td>»dummkopf!</td>\n",
       "    </tr>\n",
       "    <tr>\n",
       "      <th>11</th>\n",
       "      <td>Wut</td>\n",
       "      <td>- »ein dummkopf!«</td>\n",
       "    </tr>\n",
       "    <tr>\n",
       "      <th>12</th>\n",
       "      <td>Wut</td>\n",
       "      <td>- \"\"du dummkopf ... bist du ein hitzkopf ...\"\"</td>\n",
       "    </tr>\n",
       "    <tr>\n",
       "      <th>13</th>\n",
       "      <td>Wut</td>\n",
       "      <td>dieser gully ist natürlich ein dummkopf.</td>\n",
       "    </tr>\n",
       "    <tr>\n",
       "      <th>14</th>\n",
       "      <td>Wut</td>\n",
       "      <td>'was sagt der dummkopf?</td>\n",
       "    </tr>\n",
       "  </tbody>\n",
       "</table>\n",
       "</div>"
      ],
      "text/plain": [
       "   label                                            text_de\n",
       "3    Wut                           die sagte: 'du dummkopf.\n",
       "4    Wut  er hielt mich für einen dummkopf, nach seinem ...\n",
       "5    Wut                       englisch ›dussel‹, dummkopf.\n",
       "6    Wut                                          dummkopf!\n",
       "7    Wut  hat dir irgendein dummkopf was schlechtes darü...\n",
       "8    Wut         das ist für seine sechs kühe, du dummkopf.\n",
       "9    Wut  wer zuviel zahlt, kommt in den ruf des dummkop...\n",
       "10   Wut                                         »dummkopf!\n",
       "11   Wut                                  - »ein dummkopf!«\n",
       "12   Wut     - \"\"du dummkopf ... bist du ein hitzkopf ...\"\"\n",
       "13   Wut           dieser gully ist natürlich ein dummkopf.\n",
       "14   Wut                            'was sagt der dummkopf?"
      ]
     },
     "execution_count": 2,
     "metadata": {},
     "output_type": "execute_result"
    }
   ],
   "source": [
    "import Emotiondataset_builder as edb\n",
    "\n",
    "edb.generate_example_text_based_on_keywords(\"Dummkopf\", \"Wut\")"
   ]
  },
  {
   "cell_type": "code",
   "execution_count": 3,
   "metadata": {},
   "outputs": [
    {
     "data": {
      "text/html": [
       "<div>\n",
       "<style scoped>\n",
       "    .dataframe tbody tr th:only-of-type {\n",
       "        vertical-align: middle;\n",
       "    }\n",
       "\n",
       "    .dataframe tbody tr th {\n",
       "        vertical-align: top;\n",
       "    }\n",
       "\n",
       "    .dataframe thead th {\n",
       "        text-align: right;\n",
       "    }\n",
       "</style>\n",
       "<table border=\"1\" class=\"dataframe\">\n",
       "  <thead>\n",
       "    <tr style=\"text-align: right;\">\n",
       "      <th></th>\n",
       "      <th>label</th>\n",
       "      <th>text_de</th>\n",
       "    </tr>\n",
       "  </thead>\n",
       "  <tbody>\n",
       "    <tr>\n",
       "      <th>0</th>\n",
       "      <td>Trauer</td>\n",
       "      <td>viele sind gekommen, und sie lasen die briefe,...</td>\n",
       "    </tr>\n",
       "    <tr>\n",
       "      <th>1</th>\n",
       "      <td>Trauer</td>\n",
       "      <td>nur daran merkte ich, daß sie weinte.</td>\n",
       "    </tr>\n",
       "    <tr>\n",
       "      <th>2</th>\n",
       "      <td>Trauer</td>\n",
       "      <td>ich sah, sie weinte.</td>\n",
       "    </tr>\n",
       "    <tr>\n",
       "      <th>3</th>\n",
       "      <td>Trauer</td>\n",
       "      <td>sie weinte lautlos, während ihr die tränen übe...</td>\n",
       "    </tr>\n",
       "    <tr>\n",
       "      <th>7</th>\n",
       "      <td>Trauer</td>\n",
       "      <td>aber sie weinte schon.</td>\n",
       "    </tr>\n",
       "    <tr>\n",
       "      <th>8</th>\n",
       "      <td>Trauer</td>\n",
       "      <td>und sie weinte, schneuzte sich, stöhnte und wi...</td>\n",
       "    </tr>\n",
       "    <tr>\n",
       "      <th>9</th>\n",
       "      <td>Trauer</td>\n",
       "      <td>dann weinte sie vor glück, sie weinte sich in ...</td>\n",
       "    </tr>\n",
       "  </tbody>\n",
       "</table>\n",
       "</div>"
      ],
      "text/plain": [
       "    label                                            text_de\n",
       "0  Trauer  viele sind gekommen, und sie lasen die briefe,...\n",
       "1  Trauer              nur daran merkte ich, daß sie weinte.\n",
       "2  Trauer                               ich sah, sie weinte.\n",
       "3  Trauer  sie weinte lautlos, während ihr die tränen übe...\n",
       "7  Trauer                             aber sie weinte schon.\n",
       "8  Trauer  und sie weinte, schneuzte sich, stöhnte und wi...\n",
       "9  Trauer  dann weinte sie vor glück, sie weinte sich in ..."
      ]
     },
     "execution_count": 3,
     "metadata": {},
     "output_type": "execute_result"
    }
   ],
   "source": [
    "edb.generate_example_text_based_on_keywords(\"sie weint\", \"Trauer\")"
   ]
  },
  {
   "cell_type": "markdown",
   "metadata": {},
   "source": [
    "#### Generating german sentence based on english sentences and translation"
   ]
  },
  {
   "cell_type": "code",
   "execution_count": 3,
   "metadata": {},
   "outputs": [
    {
     "name": "stderr",
     "output_type": "stream",
     "text": [
      "C:\\Users\\PCOvice\\Notebook\\Drive\\Sentiment Project\\sentiment\\1. Datacollecting\\Emotionlexicon\\generation_of_training_texts.py:31: UserWarning: Internetverbindung muss erhalten bleiben. No Error handling\n",
      "  warnings.warn(\"Internetverbindung muss erhalten bleiben. No Error handling\")\n"
     ]
    },
    {
     "data": {
      "text/plain": [
       "'Sie weint'"
      ]
     },
     "execution_count": 3,
     "metadata": {},
     "output_type": "execute_result"
    }
   ],
   "source": [
    "edb.translate_texts(\"She is crying\")"
   ]
  },
  {
   "cell_type": "markdown",
   "metadata": {},
   "source": [
    "## Application of DWDS-API on Triggerwords"
   ]
  },
  {
   "cell_type": "code",
   "execution_count": 15,
   "metadata": {},
   "outputs": [],
   "source": [
    "import pandas as pd\n",
    "\n",
    "df = pd.read_excel(\"triggerwords.xlsx\", header=None)[:5]"
   ]
  },
  {
   "cell_type": "code",
   "execution_count": 16,
   "metadata": {},
   "outputs": [
    {
     "data": {
      "text/html": [
       "<div>\n",
       "<style scoped>\n",
       "    .dataframe tbody tr th:only-of-type {\n",
       "        vertical-align: middle;\n",
       "    }\n",
       "\n",
       "    .dataframe tbody tr th {\n",
       "        vertical-align: top;\n",
       "    }\n",
       "\n",
       "    .dataframe thead th {\n",
       "        text-align: right;\n",
       "    }\n",
       "</style>\n",
       "<table border=\"1\" class=\"dataframe\">\n",
       "  <thead>\n",
       "    <tr style=\"text-align: right;\">\n",
       "      <th></th>\n",
       "      <th>0</th>\n",
       "      <th>1</th>\n",
       "    </tr>\n",
       "  </thead>\n",
       "  <tbody>\n",
       "    <tr>\n",
       "      <th>0</th>\n",
       "      <td>Ekel</td>\n",
       "      <td>Abgunst</td>\n",
       "    </tr>\n",
       "    <tr>\n",
       "      <th>1</th>\n",
       "      <td>Ekel</td>\n",
       "      <td>abhorrieren</td>\n",
       "    </tr>\n",
       "    <tr>\n",
       "      <th>2</th>\n",
       "      <td>Ekel</td>\n",
       "      <td>abneigend</td>\n",
       "    </tr>\n",
       "    <tr>\n",
       "      <th>3</th>\n",
       "      <td>Ekel</td>\n",
       "      <td>Abneigung</td>\n",
       "    </tr>\n",
       "    <tr>\n",
       "      <th>4</th>\n",
       "      <td>Ekel</td>\n",
       "      <td>abominabel</td>\n",
       "    </tr>\n",
       "  </tbody>\n",
       "</table>\n",
       "</div>"
      ],
      "text/plain": [
       "      0            1\n",
       "0  Ekel      Abgunst\n",
       "1  Ekel  abhorrieren\n",
       "2  Ekel    abneigend\n",
       "3  Ekel    Abneigung\n",
       "4  Ekel   abominabel"
      ]
     },
     "execution_count": 16,
     "metadata": {},
     "output_type": "execute_result"
    }
   ],
   "source": [
    "df"
   ]
  },
  {
   "cell_type": "code",
   "execution_count": 40,
   "metadata": {},
   "outputs": [],
   "source": [
    "new_df = pd.DataFrame()\n",
    "\n",
    "for i in range(len(df)):\n",
    "    #generate sentence based on triggerwords\n",
    "    sentence = edb.generate_example_text_based_on_keywords(df[1][i],df[0][i])\n",
    "    new_df = new_df.append(sentence)"
   ]
  },
  {
   "cell_type": "code",
   "execution_count": 59,
   "metadata": {},
   "outputs": [
    {
     "data": {
      "text/html": [
       "<div>\n",
       "<style scoped>\n",
       "    .dataframe tbody tr th:only-of-type {\n",
       "        vertical-align: middle;\n",
       "    }\n",
       "\n",
       "    .dataframe tbody tr th {\n",
       "        vertical-align: top;\n",
       "    }\n",
       "\n",
       "    .dataframe thead th {\n",
       "        text-align: right;\n",
       "    }\n",
       "</style>\n",
       "<table border=\"1\" class=\"dataframe\">\n",
       "  <thead>\n",
       "    <tr style=\"text-align: right;\">\n",
       "      <th></th>\n",
       "      <th>label</th>\n",
       "      <th>text_de</th>\n",
       "    </tr>\n",
       "  </thead>\n",
       "  <tbody>\n",
       "    <tr>\n",
       "      <th>0</th>\n",
       "      <td>Ekel</td>\n",
       "      <td>ihr müget der abgunst und schmach wehrn.</td>\n",
       "    </tr>\n",
       "    <tr>\n",
       "      <th>0</th>\n",
       "      <td>Ekel</td>\n",
       "      <td>ich versuchte dem wolpertinger meine abneigung...</td>\n",
       "    </tr>\n",
       "    <tr>\n",
       "      <th>1</th>\n",
       "      <td>Ekel</td>\n",
       "      <td>gut nennen wir den gegenstand unserer neigung,...</td>\n",
       "    </tr>\n",
       "    <tr>\n",
       "      <th>2</th>\n",
       "      <td>Ekel</td>\n",
       "      <td>seine abneigung gegen mich drückte er in kindi...</td>\n",
       "    </tr>\n",
       "    <tr>\n",
       "      <th>3</th>\n",
       "      <td>Ekel</td>\n",
       "      <td>&gt; abneigung gegen oberflächlichkeit und nachlä...</td>\n",
       "    </tr>\n",
       "    <tr>\n",
       "      <th>4</th>\n",
       "      <td>Ekel</td>\n",
       "      <td>bürgertum seine abneigung gegen das mit dem ab...</td>\n",
       "    </tr>\n",
       "    <tr>\n",
       "      <th>5</th>\n",
       "      <td>Ekel</td>\n",
       "      <td>stadt- und gemeindeverwaltungen begegnen den l...</td>\n",
       "    </tr>\n",
       "  </tbody>\n",
       "</table>\n",
       "</div>"
      ],
      "text/plain": [
       "  label                                            text_de\n",
       "0  Ekel           ihr müget der abgunst und schmach wehrn.\n",
       "0  Ekel  ich versuchte dem wolpertinger meine abneigung...\n",
       "1  Ekel  gut nennen wir den gegenstand unserer neigung,...\n",
       "2  Ekel  seine abneigung gegen mich drückte er in kindi...\n",
       "3  Ekel  > abneigung gegen oberflächlichkeit und nachlä...\n",
       "4  Ekel  bürgertum seine abneigung gegen das mit dem ab...\n",
       "5  Ekel  stadt- und gemeindeverwaltungen begegnen den l..."
      ]
     },
     "execution_count": 59,
     "metadata": {},
     "output_type": "execute_result"
    }
   ],
   "source": [
    "new_df"
   ]
  }
 ],
 "metadata": {
  "kernelspec": {
   "display_name": "Python 3",
   "language": "python",
   "name": "python3"
  },
  "language_info": {
   "codemirror_mode": {
    "name": "ipython",
    "version": 3
   },
   "file_extension": ".py",
   "mimetype": "text/x-python",
   "name": "python",
   "nbconvert_exporter": "python",
   "pygments_lexer": "ipython3",
   "version": "3.8.5"
  }
 },
 "nbformat": 4,
 "nbformat_minor": 4
}
