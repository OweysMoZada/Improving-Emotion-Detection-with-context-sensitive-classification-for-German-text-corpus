{
 "cells": [
  {
   "cell_type": "markdown",
   "metadata": {},
   "source": [
    "Emotionswörter nach https://edoc.ub.uni-muenchen.de/25295/7/Aschenbrenner_Andreas.pdf\n",
    "\n",
    "\n",
    "API:\n",
    "https://www.dwds.de/d/api\n",
    "\n",
    "### Here you can see some examples for the DWDS-API and translation."
   ]
  },
  {
   "cell_type": "markdown",
   "metadata": {},
   "source": [
    "#### Generating sentences based on words "
   ]
  },
  {
   "cell_type": "code",
   "execution_count": 2,
   "metadata": {},
   "outputs": [
    {
     "name": "stderr",
     "output_type": "stream",
     "text": [
      "[nltk_data] Downloading package punkt to\n",
      "[nltk_data]     /home/o_momenzada/nltk_data...\n",
      "[nltk_data]   Package punkt is already up-to-date!\n"
     ]
    },
    {
     "data": {
      "text/html": [
       "<div>\n",
       "<style scoped>\n",
       "    .dataframe tbody tr th:only-of-type {\n",
       "        vertical-align: middle;\n",
       "    }\n",
       "\n",
       "    .dataframe tbody tr th {\n",
       "        vertical-align: top;\n",
       "    }\n",
       "\n",
       "    .dataframe thead th {\n",
       "        text-align: right;\n",
       "    }\n",
       "</style>\n",
       "<table border=\"1\" class=\"dataframe\">\n",
       "  <thead>\n",
       "    <tr style=\"text-align: right;\">\n",
       "      <th></th>\n",
       "      <th>label</th>\n",
       "      <th>text_de</th>\n",
       "    </tr>\n",
       "  </thead>\n",
       "  <tbody>\n",
       "    <tr>\n",
       "      <th>3</th>\n",
       "      <td>Wut</td>\n",
       "      <td>die sagte: 'du dummkopf.</td>\n",
       "    </tr>\n",
       "    <tr>\n",
       "      <th>4</th>\n",
       "      <td>Wut</td>\n",
       "      <td>er hielt mich für einen dummkopf, nach seinem ...</td>\n",
       "    </tr>\n",
       "    <tr>\n",
       "      <th>5</th>\n",
       "      <td>Wut</td>\n",
       "      <td>englisch ›dussel‹, dummkopf.</td>\n",
       "    </tr>\n",
       "    <tr>\n",
       "      <th>6</th>\n",
       "      <td>Wut</td>\n",
       "      <td>dummkopf!</td>\n",
       "    </tr>\n",
       "    <tr>\n",
       "      <th>7</th>\n",
       "      <td>Wut</td>\n",
       "      <td>hat dir irgendein dummkopf was schlechtes darü...</td>\n",
       "    </tr>\n",
       "    <tr>\n",
       "      <th>8</th>\n",
       "      <td>Wut</td>\n",
       "      <td>das ist für seine sechs kühe, du dummkopf.</td>\n",
       "    </tr>\n",
       "    <tr>\n",
       "      <th>9</th>\n",
       "      <td>Wut</td>\n",
       "      <td>wer zuviel zahlt, kommt in den ruf des dummkop...</td>\n",
       "    </tr>\n",
       "    <tr>\n",
       "      <th>10</th>\n",
       "      <td>Wut</td>\n",
       "      <td>»dummkopf!</td>\n",
       "    </tr>\n",
       "    <tr>\n",
       "      <th>11</th>\n",
       "      <td>Wut</td>\n",
       "      <td>- »ein dummkopf!«</td>\n",
       "    </tr>\n",
       "    <tr>\n",
       "      <th>12</th>\n",
       "      <td>Wut</td>\n",
       "      <td>- \"\"du dummkopf ... bist du ein hitzkopf ...\"\"</td>\n",
       "    </tr>\n",
       "    <tr>\n",
       "      <th>13</th>\n",
       "      <td>Wut</td>\n",
       "      <td>dieser gully ist natürlich ein dummkopf.</td>\n",
       "    </tr>\n",
       "    <tr>\n",
       "      <th>14</th>\n",
       "      <td>Wut</td>\n",
       "      <td>'was sagt der dummkopf?</td>\n",
       "    </tr>\n",
       "  </tbody>\n",
       "</table>\n",
       "</div>"
      ],
      "text/plain": [
       "   label                                            text_de\n",
       "3    Wut                           die sagte: 'du dummkopf.\n",
       "4    Wut  er hielt mich für einen dummkopf, nach seinem ...\n",
       "5    Wut                       englisch ›dussel‹, dummkopf.\n",
       "6    Wut                                          dummkopf!\n",
       "7    Wut  hat dir irgendein dummkopf was schlechtes darü...\n",
       "8    Wut         das ist für seine sechs kühe, du dummkopf.\n",
       "9    Wut  wer zuviel zahlt, kommt in den ruf des dummkop...\n",
       "10   Wut                                         »dummkopf!\n",
       "11   Wut                                  - »ein dummkopf!«\n",
       "12   Wut     - \"\"du dummkopf ... bist du ein hitzkopf ...\"\"\n",
       "13   Wut           dieser gully ist natürlich ein dummkopf.\n",
       "14   Wut                            'was sagt der dummkopf?"
      ]
     },
     "execution_count": 2,
     "metadata": {},
     "output_type": "execute_result"
    }
   ],
   "source": [
    "import Emotiondataset_builder as edb\n",
    "\n",
    "edb.generate_example_text_based_on_keywords(\"Dummkopf\", \"Wut\")"
   ]
  },
  {
   "cell_type": "code",
   "execution_count": 3,
   "metadata": {},
   "outputs": [
    {
     "data": {
      "text/html": [
       "<div>\n",
       "<style scoped>\n",
       "    .dataframe tbody tr th:only-of-type {\n",
       "        vertical-align: middle;\n",
       "    }\n",
       "\n",
       "    .dataframe tbody tr th {\n",
       "        vertical-align: top;\n",
       "    }\n",
       "\n",
       "    .dataframe thead th {\n",
       "        text-align: right;\n",
       "    }\n",
       "</style>\n",
       "<table border=\"1\" class=\"dataframe\">\n",
       "  <thead>\n",
       "    <tr style=\"text-align: right;\">\n",
       "      <th></th>\n",
       "      <th>label</th>\n",
       "      <th>text_de</th>\n",
       "    </tr>\n",
       "  </thead>\n",
       "  <tbody>\n",
       "    <tr>\n",
       "      <th>0</th>\n",
       "      <td>Trauer</td>\n",
       "      <td>viele sind gekommen, und sie lasen die briefe,...</td>\n",
       "    </tr>\n",
       "    <tr>\n",
       "      <th>1</th>\n",
       "      <td>Trauer</td>\n",
       "      <td>nur daran merkte ich, daß sie weinte.</td>\n",
       "    </tr>\n",
       "    <tr>\n",
       "      <th>2</th>\n",
       "      <td>Trauer</td>\n",
       "      <td>ich sah, sie weinte.</td>\n",
       "    </tr>\n",
       "    <tr>\n",
       "      <th>3</th>\n",
       "      <td>Trauer</td>\n",
       "      <td>sie weinte lautlos, während ihr die tränen übe...</td>\n",
       "    </tr>\n",
       "    <tr>\n",
       "      <th>7</th>\n",
       "      <td>Trauer</td>\n",
       "      <td>aber sie weinte schon.</td>\n",
       "    </tr>\n",
       "    <tr>\n",
       "      <th>8</th>\n",
       "      <td>Trauer</td>\n",
       "      <td>und sie weinte, schneuzte sich, stöhnte und wi...</td>\n",
       "    </tr>\n",
       "    <tr>\n",
       "      <th>9</th>\n",
       "      <td>Trauer</td>\n",
       "      <td>dann weinte sie vor glück, sie weinte sich in ...</td>\n",
       "    </tr>\n",
       "  </tbody>\n",
       "</table>\n",
       "</div>"
      ],
      "text/plain": [
       "    label                                            text_de\n",
       "0  Trauer  viele sind gekommen, und sie lasen die briefe,...\n",
       "1  Trauer              nur daran merkte ich, daß sie weinte.\n",
       "2  Trauer                               ich sah, sie weinte.\n",
       "3  Trauer  sie weinte lautlos, während ihr die tränen übe...\n",
       "7  Trauer                             aber sie weinte schon.\n",
       "8  Trauer  und sie weinte, schneuzte sich, stöhnte und wi...\n",
       "9  Trauer  dann weinte sie vor glück, sie weinte sich in ..."
      ]
     },
     "execution_count": 3,
     "metadata": {},
     "output_type": "execute_result"
    }
   ],
   "source": [
    "edb.generate_example_text_based_on_keywords(\"sie weint\", \"Trauer\")"
   ]
  },
  {
   "cell_type": "markdown",
   "metadata": {},
   "source": [
    "#### Generating german sentence based on english sentences and translation"
   ]
  },
  {
   "cell_type": "code",
   "execution_count": 3,
   "metadata": {},
   "outputs": [
    {
     "name": "stderr",
     "output_type": "stream",
     "text": [
      "C:\\Users\\PCOvice\\Notebook\\Drive\\Sentiment Project\\sentiment\\1. Datacollecting\\Emotionlexicon\\generation_of_training_texts.py:31: UserWarning: Internetverbindung muss erhalten bleiben. No Error handling\n",
      "  warnings.warn(\"Internetverbindung muss erhalten bleiben. No Error handling\")\n"
     ]
    },
    {
     "data": {
      "text/plain": [
       "'Sie weint'"
      ]
     },
     "execution_count": 3,
     "metadata": {},
     "output_type": "execute_result"
    }
   ],
   "source": [
    "edb.translate_texts(\"She is crying\")"
   ]
  }
 ],
 "metadata": {
  "kernelspec": {
   "display_name": "Python 3",
   "language": "python",
   "name": "python3"
  },
  "language_info": {
   "codemirror_mode": {
    "name": "ipython",
    "version": 3
   },
   "file_extension": ".py",
   "mimetype": "text/x-python",
   "name": "python",
   "nbconvert_exporter": "python",
   "pygments_lexer": "ipython3",
   "version": "3.8.5"
  }
 },
 "nbformat": 4,
 "nbformat_minor": 4
}
