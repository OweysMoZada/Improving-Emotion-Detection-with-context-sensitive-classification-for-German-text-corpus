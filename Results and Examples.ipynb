{
 "cells": [
  {
   "cell_type": "markdown",
   "metadata": {},
   "source": [
    "# API requests Examples\n",
    "\n",
    "Here are some realworld application of our model. We apply the prediction on existing articles.\n",
    "\n",
    "#### Note: The following url is just an example name. The real API is owned by SCHICKLER."
   ]
  },
  {
   "cell_type": "code",
   "execution_count": 1,
   "metadata": {},
   "outputs": [],
   "source": [
    "import requests\n",
    "\n",
    "# Calling API and predict based on it\n",
    "url = \"secret.url.app/api\"\n",
    "\n",
    "def create_emotions_sentiment(text):\n",
    "    json_text = {'text' : text}\n",
    "    pred = requests.post(url,json=json_text)\n",
    "\n",
    "    return pred.json()"
   ]
  },
  {
   "cell_type": "markdown",
   "metadata": {},
   "source": [
    "# Examples and Results\n"
   ]
  },
  {
   "cell_type": "code",
   "execution_count": 2,
   "metadata": {},
   "outputs": [
    {
     "data": {
      "text/plain": [
       "{'emotions': {'anger': 0.00487894379,\n",
       "  'fear': 0.00119296345,\n",
       "  'joy': 0.0277745035,\n",
       "  'neutral': 0.00150442007,\n",
       "  'sadness': 0.964649141},\n",
       " 'is_truncated': False,\n",
       " 'sentiments': {'sentiment_label': 'negative',\n",
       "  'sentiment_valence': -0.94144557993}}"
      ]
     },
     "execution_count": 2,
     "metadata": {},
     "output_type": "execute_result"
    }
   ],
   "source": [
    "# That did not please me at all\n",
    "create_emotions_sentiment('Das hat mich gar nicht gefreut')"
   ]
  },
  {
   "cell_type": "code",
   "execution_count": 3,
   "metadata": {},
   "outputs": [
    {
     "data": {
      "text/plain": [
       "{'emotions': {'anger': 0.00189504109,\n",
       "  'fear': 0.0018476767,\n",
       "  'joy': 0.900638282,\n",
       "  'neutral': 0.00323026697,\n",
       "  'sadness': 0.0923887342},\n",
       " 'is_truncated': False,\n",
       " 'sentiments': {'sentiment_label': 'positive',\n",
       "  'sentiment_valence': 0.80127973303}}"
      ]
     },
     "execution_count": 3,
     "metadata": {},
     "output_type": "execute_result"
    }
   ],
   "source": [
    "# I was pleased\n",
    "create_emotions_sentiment('Das hat mich gefreut')"
   ]
  },
  {
   "cell_type": "code",
   "execution_count": 4,
   "metadata": {},
   "outputs": [
    {
     "data": {
      "text/plain": [
       "{'emotions': {'anger': 0.00344270491,\n",
       "  'fear': 0.000863525434,\n",
       "  'joy': 0.000450256659,\n",
       "  'neutral': 0.000353546551,\n",
       "  'sadness': 0.99489},\n",
       " 'is_truncated': False,\n",
       " 'sentiments': {'sentiment_label': 'negative',\n",
       "  'sentiment_valence': -0.9983964534490001}}"
      ]
     },
     "execution_count": 4,
     "metadata": {},
     "output_type": "execute_result"
    }
   ],
   "source": [
    "# Tragic death in the city center\n",
    "create_emotions_sentiment('Tragischer Tod in der Innenstadt')"
   ]
  },
  {
   "cell_type": "code",
   "execution_count": 6,
   "metadata": {},
   "outputs": [
    {
     "data": {
      "text/plain": [
       "{'emotions': {'anger': 0.0244757049,\n",
       "  'fear': 0.800950885,\n",
       "  'joy': 0.133515611,\n",
       "  'neutral': 0.00455848267,\n",
       "  'sadness': 0.036499355},\n",
       " 'is_truncated': False,\n",
       " 'sentiments': {'sentiment_label': 'negative',\n",
       "  'sentiment_valence': -0.72385151733}}"
      ]
     },
     "execution_count": 6,
     "metadata": {},
     "output_type": "execute_result"
    }
   ],
   "source": [
    "# GERMANS FEAR FOR THEIR LIVES IN AFGHANISTAN\n",
    "create_emotions_sentiment('DEUTSCHE BANGEN IN AFGHANISTAN UM IHR LEBEN')"
   ]
  },
  {
   "cell_type": "code",
   "execution_count": 7,
   "metadata": {},
   "outputs": [
    {
     "data": {
      "text/plain": [
       "{'emotions': {'anger': 0.0280658565,\n",
       "  'fear': 0.0647627488,\n",
       "  'joy': 0.0367082432,\n",
       "  'neutral': 0.794272661,\n",
       "  'sadness': 0.076190494},\n",
       " 'is_truncated': False,\n",
       " 'sentiments': {'sentiment_label': 'neutral', 'sentiment_valence': 0}}"
      ]
     },
     "execution_count": 7,
     "metadata": {},
     "output_type": "execute_result"
    }
   ],
   "source": [
    "# Weather report from today\n",
    "create_emotions_sentiment('Wetterbericht von heute')"
   ]
  },
  {
   "cell_type": "code",
   "execution_count": 8,
   "metadata": {},
   "outputs": [
    {
     "data": {
      "text/plain": [
       "{'emotions': {'anger': 0.0129549252,\n",
       "  'fear': 0.914692163,\n",
       "  'joy': 0.0104610957,\n",
       "  'neutral': 0.00391874,\n",
       "  'sadness': 0.0579731092},\n",
       " 'is_truncated': False,\n",
       " 'sentiments': {'sentiment_label': 'negative',\n",
       "  'sentiment_valence': -0.97124126}}"
      ]
     },
     "execution_count": 8,
     "metadata": {},
     "output_type": "execute_result"
    }
   ],
   "source": [
    "# Today's weather forecast: there will be a tornado today\n",
    "create_emotions_sentiment('Wetterbericht von heute: heute wird es einen Tornado geben')"
   ]
  }
 ],
 "metadata": {
  "kernelspec": {
   "display_name": "Python 3",
   "language": "python",
   "name": "python3"
  },
  "language_info": {
   "codemirror_mode": {
    "name": "ipython",
    "version": 3
   },
   "file_extension": ".py",
   "mimetype": "text/x-python",
   "name": "python",
   "nbconvert_exporter": "python",
   "pygments_lexer": "ipython3",
   "version": "3.8.5"
  }
 },
 "nbformat": 4,
 "nbformat_minor": 4
}
