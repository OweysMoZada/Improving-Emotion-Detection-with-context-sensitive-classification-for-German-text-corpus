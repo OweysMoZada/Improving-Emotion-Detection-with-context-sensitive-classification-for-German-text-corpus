{
 "cells": [
  {
   "cell_type": "markdown",
   "metadata": {},
   "source": [
    "SOURCES:\n",
    "\n",
    "- <b>dailydialog</b>: 2017, 102k <br>\n",
    "- <b>emotion-stimulus</b>: 2015<br>\n",
    "- <b>isear</b>:\t1990\t<br>\n",
    "\n",
    "\n",
    "Based on the DWDS-API (see \"Data collecting/Emotiondataset_builder.py\"):\n",
    "- german_emotionlexicon.csv\n",
    "\n",
    "Combining the dataset, we get:\n",
    "- fullset.csv"
   ]
  },
  {
   "cell_type": "markdown",
   "metadata": {},
   "source": [
    "# Model Training\n",
    "Here we introduce the used model and how we trained it."
   ]
  },
  {
   "cell_type": "code",
   "execution_count": 1,
   "metadata": {
    "scrolled": true
   },
   "outputs": [],
   "source": [
    "import pandas as pd\n",
    "import numpy as np\n",
    "import tensorflow as tf\n",
    "import re\n",
    "\n",
    "from sklearn.model_selection import train_test_split\n",
    "from tensorflow.keras.preprocessing.text import Tokenizer\n",
    "from tensorflow.keras.preprocessing.sequence import pad_sequences\n",
    "from sklearn.utils import shuffle\n",
    "from sklearn.preprocessing import LabelEncoder\n",
    "\n",
    "fullset = pd.read_csv('fullset.csv')\n",
    "shuffle(fullset,random_state=42)\n",
    "\n",
    "del fullset['Unnamed: 0']"
   ]
  },
  {
   "cell_type": "markdown",
   "metadata": {},
   "source": [
    "### Text cleaning"
   ]
  },
  {
   "cell_type": "code",
   "execution_count": 2,
   "metadata": {},
   "outputs": [],
   "source": [
    "#get rid of further symbols \n",
    "fullset['text_de'] = fullset['text_de'].replace({'[»„‘’“”…]': ' '}, regex=True)\n",
    "\n",
    "#get rid of digits\n",
    "fullset['text_de'] = fullset['text_de'].replace({'\\w*\\d\\w*': 'Nummer'}, regex=True)\n",
    "\n",
    "# get rid of urls\n",
    "fullset['text_de'] = fullset['text_de'].replace({r\"https?://\\S+|www\\.\\S+\": ' '}, regex=True)\n",
    "\n",
    "#get not identified unicode\n",
    "fullset['text_de'] = fullset['text_de'].replace('[\\u0080-\\uffff]w{1-3}', \" \", regex=True)\n",
    "\n",
    "# replaces all stringw which are unicodes (\\u2009 \\a0x) and also removes bashes\n",
    "fullset['text_de'] = fullset['text_de'].replace({r\"[^\\x00-\\x7F\\w{1,3}]+\": ' '}, regex=True)\n",
    "\n",
    "# remove hashtags and @usernames\n",
    "fullset['text_de'] = fullset['text_de'].replace({r\"(#[\\d\\w\\.]+)\": ' '}, regex=True)\n",
    "fullset['text_de'] = fullset['text_de'].replace({r\"(@[\\d\\w\\.]+)\": ' '}, regex=True)"
   ]
  },
  {
   "cell_type": "markdown",
   "metadata": {},
   "source": [
    "### Embedding"
   ]
  },
  {
   "cell_type": "code",
   "execution_count": 3,
   "metadata": {},
   "outputs": [],
   "source": [
    "#define labels\n",
    "lb_make = LabelEncoder()\n",
    "fullset[\"label_id\"] = lb_make.fit_transform(fullset[\"Emotion\"])"
   ]
  },
  {
   "cell_type": "code",
   "execution_count": 4,
   "metadata": {},
   "outputs": [
    {
     "name": "stdout",
     "output_type": "stream",
     "text": [
      "Found 17087 unique tokens.\n"
     ]
    }
   ],
   "source": [
    "# The maximum number of most frequent words to be used.\n",
    "MAX_NB_WORDS = 15000\n",
    "# Max number of words in each row\n",
    "MAX_SEQUENCE_LENGTH = 150\n",
    "#feature vector length\n",
    "HIDDEN_DIM = 150\n",
    "\n",
    "tokenizer = Tokenizer(num_words=MAX_NB_WORDS, lower=True)\n",
    "tokenizer.fit_on_texts(fullset['text_de'].values)\n",
    "word_index = tokenizer.word_index\n",
    "print('Found %s unique tokens.' % len(word_index))"
   ]
  },
  {
   "cell_type": "code",
   "execution_count": 5,
   "metadata": {},
   "outputs": [
    {
     "name": "stdout",
     "output_type": "stream",
     "text": [
      "Shape of data tensor: (11157, 150)\n",
      "Shape of label tensor: (11157, 5)\n"
     ]
    }
   ],
   "source": [
    "# define X and Y\n",
    "X = tokenizer.texts_to_sequences(fullset['text_de'].values)\n",
    "X = pad_sequences(X, maxlen=MAX_SEQUENCE_LENGTH)\n",
    "\n",
    "print('Shape of data tensor:', X.shape)\n",
    "\n",
    "Y = pd.get_dummies(fullset['Emotion']).values\n",
    "print('Shape of label tensor:', Y.shape)\n",
    "\n",
    "# a really messy way to save labels\n",
    "onehot_labels = pd.get_dummies(fullset['Emotion'])\n",
    "labels = onehot_labels.drop_duplicates(subset=onehot_labels.columns).reset_index(drop=True)"
   ]
  },
  {
   "cell_type": "markdown",
   "metadata": {},
   "source": [
    "### Test and train of the model"
   ]
  },
  {
   "cell_type": "code",
   "execution_count": 7,
   "metadata": {},
   "outputs": [],
   "source": [
    "#split data\n",
    "X_train, X_test, Y_train, Y_test = train_test_split(X,Y, test_size = 0.10, random_state = 42)"
   ]
  },
  {
   "cell_type": "code",
   "execution_count": 8,
   "metadata": {},
   "outputs": [],
   "source": [
    "#save model\n",
    "from __future__ import absolute_import, division, print_function\n",
    "import os\n",
    "\n",
    "checkpoint_path = \"model_pretrain/model\"\n",
    "checkpoint_dir = os.path.dirname(checkpoint_path)\n",
    "\n",
    "cp_callback = tf.keras.callbacks.ModelCheckpoint(checkpoint_path, \n",
    "                                                 save_weights_only=True,\n",
    "                                                 verbose=1)"
   ]
  },
  {
   "cell_type": "code",
   "execution_count": 9,
   "metadata": {},
   "outputs": [],
   "source": [
    "from tensorflow.keras.models import Sequential\n",
    "from tensorflow.keras.layers import Dense, Embedding,SpatialDropout1D, LSTM,Conv1D,MaxPooling1D\n",
    "from tensorflow.keras import layers\n",
    "\n",
    "def emotion_model():\n",
    "    model = Sequential()\n",
    "    model.add(Embedding(MAX_NB_WORDS, HIDDEN_DIM, input_length=X.shape[1]))\n",
    "    model.add(SpatialDropout1D(0.2))\n",
    "    model.add(LSTM(100, dropout=0.2, recurrent_dropout=0.2))\n",
    "    model.add(Dense(5, activation='softmax'))\n",
    "    \n",
    "    model.compile(loss='categorical_crossentropy', optimizer='adam', metrics=['accuracy'])\n",
    "    \n",
    "    return model "
   ]
  },
  {
   "cell_type": "code",
   "execution_count": 12,
   "metadata": {
    "scrolled": true
   },
   "outputs": [
    {
     "data": {
      "text/plain": [
       "<tensorflow.python.training.tracking.util.CheckpointLoadStatus at 0x118e724efd0>"
      ]
     },
     "execution_count": 12,
     "metadata": {},
     "output_type": "execute_result"
    }
   ],
   "source": [
    "#load if trained\n",
    "model = emotion_model()\n",
    "\n",
    "model.load_weights(\"model/pretrained_model\")\n",
    "\n",
    "# epochs = 7\n",
    "# batch_size = 64\n",
    "# model.fit(X_train, Y_train,epochs=epochs, batch_size=batch_size,validation_split=0.2, callbacks=[cp_callback])"
   ]
  },
  {
   "cell_type": "code",
   "execution_count": 13,
   "metadata": {},
   "outputs": [
    {
     "name": "stdout",
     "output_type": "stream",
     "text": [
      "35/35 [==============================] - 2s 30ms/step - loss: 1.2262 - accuracy: 0.6783\n",
      "\n",
      " Test set\n",
      "  Loss: 1.226\n",
      "  Accuracy: 0.678\n"
     ]
    }
   ],
   "source": [
    "#testing\n",
    "accr = model.evaluate(X_test,Y_test)\n",
    "print('\\n Test set\\n  Loss: {:0.3f}\\n  Accuracy: {:0.3f}'.format(accr[0],accr[1]))"
   ]
  }
 ],
 "metadata": {
  "kernelspec": {
   "display_name": "Python 3",
   "language": "python",
   "name": "python3"
  },
  "language_info": {
   "codemirror_mode": {
    "name": "ipython",
    "version": 3
   },
   "file_extension": ".py",
   "mimetype": "text/x-python",
   "name": "python",
   "nbconvert_exporter": "python",
   "pygments_lexer": "ipython3",
   "version": "3.8.5"
  }
 },
 "nbformat": 4,
 "nbformat_minor": 4
}
